{
  "nbformat": 4,
  "nbformat_minor": 0,
  "metadata": {
    "colab": {
      "name": "models.ipynb",
      "provenance": [],
      "collapsed_sections": [],
      "authorship_tag": "ABX9TyPkyGBgqdnwjhQI4AiGGM7v",
      "include_colab_link": true
    },
    "kernelspec": {
      "name": "python3",
      "display_name": "Python 3"
    }
  },
  "cells": [
    {
      "cell_type": "markdown",
      "metadata": {
        "id": "view-in-github",
        "colab_type": "text"
      },
      "source": [
        "<a href=\"https://colab.research.google.com/github/mervedin/spam-filter/blob/main/models.ipynb\" target=\"_parent\"><img src=\"https://colab.research.google.com/assets/colab-badge.svg\" alt=\"Open In Colab\"/></a>"
      ]
    },
    {
      "cell_type": "code",
      "metadata": {
        "id": "b_OtQDWOtin-"
      },
      "source": [
        "import numpy as np\n",
        "import pandas as pd\n",
        "import matplotlib.pyplot as plt\n",
        "import seaborn as sns\n",
        "import random\n",
        "random.seed(42)\n",
        "\n",
        "from sklearn.model_selection import train_test_split\n",
        "from sklearn.feature_extraction.text import TfidfVectorizer, CountVectorizer\n",
        "from sklearn.metrics import accuracy_score, confusion_matrix, f1_score, classification_report\n",
        "\n",
        "#models\n",
        "from sklearn.neighbors import KNeighborsClassifier\n",
        "from sklearn.linear_model import LogisticRegression\n",
        "from sklearn.svm import SVC\n",
        "from sklearn.naive_bayes import MultinomialNB, ComplementNB\n",
        "from sklearn.ensemble import RandomForestClassifier\n",
        "from lightgbm import LGBMClassifier"
      ],
      "execution_count": 2,
      "outputs": []
    },
    {
      "cell_type": "code",
      "metadata": {
        "colab": {
          "base_uri": "https://localhost:8080/",
          "height": 206
        },
        "id": "GHaqH-dHu0zV",
        "outputId": "60a3b5b4-40ee-4734-969e-e1fd8297b326"
      },
      "source": [
        "#read the data\n",
        "df = pd.read_csv(\"https://raw.githubusercontent.com/mervedin/spam-filter/main/data/all_data.csv\")\n",
        "df.head()"
      ],
      "execution_count": 3,
      "outputs": [
        {
          "output_type": "execute_result",
          "data": {
            "text/html": [
              "<div>\n",
              "<style scoped>\n",
              "    .dataframe tbody tr th:only-of-type {\n",
              "        vertical-align: middle;\n",
              "    }\n",
              "\n",
              "    .dataframe tbody tr th {\n",
              "        vertical-align: top;\n",
              "    }\n",
              "\n",
              "    .dataframe thead th {\n",
              "        text-align: right;\n",
              "    }\n",
              "</style>\n",
              "<table border=\"1\" class=\"dataframe\">\n",
              "  <thead>\n",
              "    <tr style=\"text-align: right;\">\n",
              "      <th></th>\n",
              "      <th>content</th>\n",
              "      <th>class</th>\n",
              "    </tr>\n",
              "  </thead>\n",
              "  <tbody>\n",
              "    <tr>\n",
              "      <th>0</th>\n",
              "      <td>fels and emotions in this songod damn</td>\n",
              "      <td>0</td>\n",
              "    </tr>\n",
              "    <tr>\n",
              "      <th>1</th>\n",
              "      <td>i dont think this song wil ever get old</td>\n",
              "      <td>0</td>\n",
              "    </tr>\n",
              "    <tr>\n",
              "      <th>2</th>\n",
              "      <td>d  this is my favorite song</td>\n",
              "      <td>0</td>\n",
              "    </tr>\n",
              "    <tr>\n",
              "      <th>3</th>\n",
              "      <td>omg listen to this its so god d</td>\n",
              "      <td>0</td>\n",
              "    </tr>\n",
              "    <tr>\n",
              "      <th>4</th>\n",
              "      <td>i like it</td>\n",
              "      <td>0</td>\n",
              "    </tr>\n",
              "  </tbody>\n",
              "</table>\n",
              "</div>"
            ],
            "text/plain": [
              "                                    content  class\n",
              "0     fels and emotions in this songod damn      0\n",
              "1  i dont think this song wil ever get old       0\n",
              "2              d  this is my favorite song       0\n",
              "3           omg listen to this its so god d      0\n",
              "4                                i like it       0"
            ]
          },
          "metadata": {
            "tags": []
          },
          "execution_count": 3
        }
      ]
    },
    {
      "cell_type": "code",
      "metadata": {
        "colab": {
          "base_uri": "https://localhost:8080/"
        },
        "id": "Co69uthOvTeT",
        "outputId": "0205ca57-ea56-4c06-d5f9-39d525c814a2"
      },
      "source": [
        "#download stopwords\n",
        "import nltk\n",
        "nltk.download('stopwords')"
      ],
      "execution_count": 4,
      "outputs": [
        {
          "output_type": "stream",
          "text": [
            "[nltk_data] Downloading package stopwords to /root/nltk_data...\n",
            "[nltk_data]   Unzipping corpora/stopwords.zip.\n"
          ],
          "name": "stdout"
        },
        {
          "output_type": "execute_result",
          "data": {
            "text/plain": [
              "True"
            ]
          },
          "metadata": {
            "tags": []
          },
          "execution_count": 4
        }
      ]
    },
    {
      "cell_type": "code",
      "metadata": {
        "id": "Wq7adQeWu22J"
      },
      "source": [
        "from nltk.corpus import stopwords\n",
        "from nltk.stem import WordNetLemmatizer\n",
        "\n",
        "\n",
        "# Removing Stopwords\n",
        "stopword = set(stopwords.words('english'))\n",
        "def remove_stopwords(text):\n",
        "    return \" \".join([word for word in str(text).split() if word not in stopword])\n",
        "\n",
        "df[\"content\"] = df[\"content\"].apply(remove_stopwords)"
      ],
      "execution_count": 5,
      "outputs": []
    },
    {
      "cell_type": "code",
      "metadata": {
        "colab": {
          "base_uri": "https://localhost:8080/"
        },
        "id": "i9U-03tcvN3Z",
        "outputId": "7fea3501-8ab3-4aa9-9348-935492443fe2"
      },
      "source": [
        "df[\"content\"]"
      ],
      "execution_count": 6,
      "outputs": [
        {
          "output_type": "execute_result",
          "data": {
            "text/plain": [
              "0                               fels emotions songod damn\n",
              "1                        dont think song wil ever get old\n",
              "2                                           favorite song\n",
              "3                                          omg listen god\n",
              "4                                                    like\n",
              "                              ...                        \n",
              "1677    know sean kingston got famous dont lok kid har...\n",
              "1678           check eminem latest track survival u didnt\n",
              "1679                      subscribe chanel x please spare\n",
              "1680                 check videos guy hope guys god laugh\n",
              "1681    yrs ago health scare thankfuly im okay realize...\n",
              "Name: content, Length: 1682, dtype: object"
            ]
          },
          "metadata": {
            "tags": []
          },
          "execution_count": 6
        }
      ]
    },
    {
      "cell_type": "code",
      "metadata": {
        "id": "P4lvHtNAvc9M"
      },
      "source": [
        "\"\"\"\n",
        "Giving a dataset it vectorize the data and train a model then test the model\n",
        "performance.\n",
        "Inputs:\n",
        "  data(pandas.DataFrame): The data will be used to train and test the models\n",
        "  models(list): It contains tuples as a list.(name_of_the_model, model_instance)\n",
        "  test_size(float): It defines the test size when dividing a dataset\n",
        "  into two parts. The default value for this parameter is 0.2 which means 20% of \n",
        "  the data will be used as a test set.\n",
        "  vectorizer(string): There is two choice for this parameter: tfidf and count.\n",
        "  tfidf refers TfidfVectorizer class from sklearn library.\n",
        "  count refers CountVectorizer class from sklearn library.\n",
        "\n",
        "Outputs:\n",
        "  model_scores(dictionary): for each model it has a key value with accuracy and\n",
        "  f1 score.\n",
        "\"\"\"\n",
        "def train_test_model(data, models, test_size=0.2, vectorizer=\"tfidf\"):\n",
        "    \n",
        "    X_train, X_test, y_train, y_test = train_test_split(data[\"content\"],\n",
        "                                                        data[\"class\"],\n",
        "                                                        test_size = test_size,\n",
        "                                                        random_state=42,\n",
        "                                                        stratify=data[\"class\"])\n",
        "    if vectorizer == \"tfidf\":\n",
        "        tfidf = TfidfVectorizer()\n",
        "        X_train = tfidf.fit_transform(X_train).toarray()\n",
        "        X_test = tfidf.transform(X_test).toarray()\n",
        "    elif vectorizer == \"count\":\n",
        "        count = CountVectorizer()\n",
        "        X_train = count.fit_transform(X_train).toarray()\n",
        "        X_test = count.transform(X_test).toarray()\n",
        "        \n",
        "    model_scores = {}\n",
        "    for name, model in models:\n",
        "        model.fit(X_train, y_train)\n",
        "        preds=model.predict(X_test)\n",
        "        acc = accuracy_score(y_test, preds)\n",
        "        f1 = f1_score(y_test, preds)\n",
        "        model_scores[name] = [acc, f1]\n",
        "        print(name, \" model results:\")\n",
        "        sns.heatmap(confusion_matrix(y_test, preds), annot=True);\n",
        "        plt.show()\n",
        "        print(classification_report(y_test, preds), \"\\n\\n\")\n",
        "        \n",
        "    return model_scores"
      ],
      "execution_count": null,
      "outputs": []
    },
    {
      "cell_type": "code",
      "metadata": {
        "id": "4sagMNX0vgG7"
      },
      "source": [
        "#list of models to evaluate\n",
        "model_list = [(\"knn\", KNeighborsClassifier()),\n",
        "              (\"logistic\", LogisticRegression()),\n",
        "              (\"svm\", SVC()),\n",
        "              (\"multinomial_nb\", MultinomialNB()),\n",
        "              (\"complement_nb\", ComplementNB()),\n",
        "              (\"rf\", RandomForestClassifier()),\n",
        "              (\"lgbm\", LGBMClassifier())]"
      ],
      "execution_count": 7,
      "outputs": []
    },
    {
      "cell_type": "code",
      "metadata": {
        "colab": {
          "base_uri": "https://localhost:8080/",
          "height": 1000
        },
        "id": "0w_nzJ3Vvinl",
        "outputId": "38d653f1-fef8-4eda-d5e3-8e086ec0f893"
      },
      "source": [
        "results = train_test_model(df, model_list)"
      ],
      "execution_count": null,
      "outputs": [
        {
          "output_type": "stream",
          "text": [
            "knn  model results:\n"
          ],
          "name": "stdout"
        },
        {
          "output_type": "display_data",
          "data": {
            "image/png": "[encoded data removed]",
            "text/plain": [
              "<Figure size 432x288 with 2 Axes>"
            ]
          },
          "metadata": {
            "tags": [],
            "needs_background": "light"
          }
        },
        {
          "output_type": "stream",
          "text": [
            "              precision    recall  f1-score   support\n",
            "\n",
            "           0       0.87      0.46      0.60       169\n",
            "           1       0.63      0.93      0.75       168\n",
            "\n",
            "    accuracy                           0.69       337\n",
            "   macro avg       0.75      0.69      0.67       337\n",
            "weighted avg       0.75      0.69      0.67       337\n",
            " \n",
            "\n",
            "\n",
            "logistic  model results:\n"
          ],
          "name": "stdout"
        },
        {
          "output_type": "display_data",
          "data": {
            "image/png": "[encoded data removed]",
            "text/plain": [
              "<Figure size 432x288 with 2 Axes>"
            ]
          },
          "metadata": {
            "tags": [],
            "needs_background": "light"
          }
        },
        {
          "output_type": "stream",
          "text": [
            "              precision    recall  f1-score   support\n",
            "\n",
            "           0       0.89      0.97      0.93       169\n",
            "           1       0.97      0.88      0.92       168\n",
            "\n",
            "    accuracy                           0.93       337\n",
            "   macro avg       0.93      0.93      0.93       337\n",
            "weighted avg       0.93      0.93      0.93       337\n",
            " \n",
            "\n",
            "\n",
            "svm  model results:\n"
          ],
          "name": "stdout"
        },
        {
          "output_type": "display_data",
          "data": {
            "image/png": "[encoded data removed]",
            "text/plain": [
              "<Figure size 432x288 with 2 Axes>"
            ]
          },
          "metadata": {
            "tags": [],
            "needs_background": "light"
          }
        },
        {
          "output_type": "stream",
          "text": [
            "              precision    recall  f1-score   support\n",
            "\n",
            "           0       0.92      0.96      0.94       169\n",
            "           1       0.96      0.91      0.94       168\n",
            "\n",
            "    accuracy                           0.94       337\n",
            "   macro avg       0.94      0.94      0.94       337\n",
            "weighted avg       0.94      0.94      0.94       337\n",
            " \n",
            "\n",
            "\n",
            "multinomial_nb  model results:\n"
          ],
          "name": "stdout"
        },
        {
          "output_type": "display_data",
          "data": {
            "image/png": "[encoded data removed]",
            "text/plain": [
              "<Figure size 432x288 with 2 Axes>"
            ]
          },
          "metadata": {
            "tags": [],
            "needs_background": "light"
          }
        },
        {
          "output_type": "stream",
          "text": [
            "              precision    recall  f1-score   support\n",
            "\n",
            "           0       0.95      0.92      0.93       169\n",
            "           1       0.92      0.95      0.93       168\n",
            "\n",
            "    accuracy                           0.93       337\n",
            "   macro avg       0.93      0.93      0.93       337\n",
            "weighted avg       0.93      0.93      0.93       337\n",
            " \n",
            "\n",
            "\n",
            "complement_nb  model results:\n"
          ],
          "name": "stdout"
        },
        {
          "output_type": "display_data",
          "data": {
            "image/png": "[encoded data removed]",
            "text/plain": [
              "<Figure size 432x288 with 2 Axes>"
            ]
          },
          "metadata": {
            "tags": [],
            "needs_background": "light"
          }
        },
        {
          "output_type": "stream",
          "text": [
            "              precision    recall  f1-score   support\n",
            "\n",
            "           0       0.92      0.93      0.93       169\n",
            "           1       0.93      0.92      0.93       168\n",
            "\n",
            "    accuracy                           0.93       337\n",
            "   macro avg       0.93      0.93      0.93       337\n",
            "weighted avg       0.93      0.93      0.93       337\n",
            " \n",
            "\n",
            "\n",
            "rf  model results:\n"
          ],
          "name": "stdout"
        },
        {
          "output_type": "display_data",
          "data": {
            "image/png": "[encoded data removed]",
            "text/plain": [
              "<Figure size 432x288 with 2 Axes>"
            ]
          },
          "metadata": {
            "tags": [],
            "needs_background": "light"
          }
        },
        {
          "output_type": "stream",
          "text": [
            "              precision    recall  f1-score   support\n",
            "\n",
            "           0       0.91      0.88      0.89       169\n",
            "           1       0.88      0.92      0.90       168\n",
            "\n",
            "    accuracy                           0.90       337\n",
            "   macro avg       0.90      0.90      0.90       337\n",
            "weighted avg       0.90      0.90      0.90       337\n",
            " \n",
            "\n",
            "\n",
            "lgbm  model results:\n"
          ],
          "name": "stdout"
        },
        {
          "output_type": "display_data",
          "data": {
            "image/png": "[encoded data removed]",
            "text/plain": [
              "<Figure size 432x288 with 2 Axes>"
            ]
          },
          "metadata": {
            "tags": [],
            "needs_background": "light"
          }
        },
        {
          "output_type": "stream",
          "text": [
            "              precision    recall  f1-score   support\n",
            "\n",
            "           0       0.88      0.95      0.91       169\n",
            "           1       0.95      0.86      0.90       168\n",
            "\n",
            "    accuracy                           0.91       337\n",
            "   macro avg       0.91      0.91      0.91       337\n",
            "weighted avg       0.91      0.91      0.91       337\n",
            " \n",
            "\n",
            "\n"
          ],
          "name": "stdout"
        }
      ]
    },
    {
      "cell_type": "code",
      "metadata": {
        "colab": {
          "base_uri": "https://localhost:8080/",
          "height": 112
        },
        "id": "Fm2eedH8vkmb",
        "outputId": "f3e385c4-89d6-4f83-b47d-fed915462166"
      },
      "source": [
        "pd.DataFrame(results, index=[\"accuracy\", \"f1_score\"])"
      ],
      "execution_count": null,
      "outputs": [
        {
          "output_type": "execute_result",
          "data": {
            "text/html": [
              "<div>\n",
              "<style scoped>\n",
              "    .dataframe tbody tr th:only-of-type {\n",
              "        vertical-align: middle;\n",
              "    }\n",
              "\n",
              "    .dataframe tbody tr th {\n",
              "        vertical-align: top;\n",
              "    }\n",
              "\n",
              "    .dataframe thead th {\n",
              "        text-align: right;\n",
              "    }\n",
              "</style>\n",
              "<table border=\"1\" class=\"dataframe\">\n",
              "  <thead>\n",
              "    <tr style=\"text-align: right;\">\n",
              "      <th></th>\n",
              "      <th>knn</th>\n",
              "      <th>logistic</th>\n",
              "      <th>svm</th>\n",
              "      <th>multinomial_nb</th>\n",
              "      <th>complement_nb</th>\n",
              "      <th>rf</th>\n",
              "      <th>lgbm</th>\n",
              "    </tr>\n",
              "  </thead>\n",
              "  <tbody>\n",
              "    <tr>\n",
              "      <th>accuracy</th>\n",
              "      <td>0.691395</td>\n",
              "      <td>0.925816</td>\n",
              "      <td>0.937685</td>\n",
              "      <td>0.931751</td>\n",
              "      <td>0.925816</td>\n",
              "      <td>0.896142</td>\n",
              "      <td>0.908012</td>\n",
              "    </tr>\n",
              "    <tr>\n",
              "      <th>f1_score</th>\n",
              "      <td>0.750000</td>\n",
              "      <td>0.922118</td>\n",
              "      <td>0.935780</td>\n",
              "      <td>0.932551</td>\n",
              "      <td>0.925373</td>\n",
              "      <td>0.897959</td>\n",
              "      <td>0.903427</td>\n",
              "    </tr>\n",
              "  </tbody>\n",
              "</table>\n",
              "</div>"
            ],
            "text/plain": [
              "               knn  logistic       svm  ...  complement_nb        rf      lgbm\n",
              "accuracy  0.691395  0.925816  0.937685  ...       0.925816  0.896142  0.908012\n",
              "f1_score  0.750000  0.922118  0.935780  ...       0.925373  0.897959  0.903427\n",
              "\n",
              "[2 rows x 7 columns]"
            ]
          },
          "metadata": {
            "tags": []
          },
          "execution_count": 12
        }
      ]
    },
    {
      "cell_type": "code",
      "metadata": {
        "id": "K78C3j54vnyk"
      },
      "source": [
        "#results_count = train_test_model(df, model_list, vectorizer=\"count\")"
      ],
      "execution_count": null,
      "outputs": []
    },
    {
      "cell_type": "code",
      "metadata": {
        "id": "rARWbXYhvsVt"
      },
      "source": [
        "#pd.DataFrame(results_count, index=[\"accuracy\", \"f1_score\"])"
      ],
      "execution_count": null,
      "outputs": []
    },
    {
      "cell_type": "code",
      "metadata": {
        "id": "USjoOLWTvw-F"
      },
      "source": [
        ""
      ],
      "execution_count": null,
      "outputs": []
    }
  ]
}